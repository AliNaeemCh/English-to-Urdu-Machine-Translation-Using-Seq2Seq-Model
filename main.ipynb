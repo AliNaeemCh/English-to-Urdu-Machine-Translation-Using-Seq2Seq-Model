{
 "cells": [
  {
   "cell_type": "code",
   "execution_count": 571,
   "metadata": {},
   "outputs": [],
   "source": [
    "import numpy as np\n",
    "from tensorflow.keras.models import Model\n",
    "from tensorflow.keras.layers import Input, LSTM, Dense, Embedding\n",
    "import pandas as pd\n",
    "import string\n",
    "import contractions\n",
    "from gensim.models import KeyedVectors\n",
    "import re\n",
    "from sklearn.model_selection import train_test_split\n",
    "from tensorflow.keras.optimizers import Adam\n",
    "import sacrebleu\n",
    "from tensorflow.keras.callbacks import Callback\n",
    "import matplotlib.pyplot as plt"
   ]
  },
  {
   "cell_type": "code",
   "execution_count": 184,
   "metadata": {},
   "outputs": [],
   "source": [
    "# Load the dataset\n",
    "file_path = \"english_urdu_1000+.csv\"  # Adjust path if needed\n",
    "dataset = pd.read_csv(file_path)\n",
    "\n",
    "# Prepare the data\n",
    "input_texts = dataset[\"English\"].values\n",
    "target_texts = dataset[\"Urdu\"].values\n",
    "total_sentences = input_texts.size"
   ]
  },
  {
   "cell_type": "code",
   "execution_count": 187,
   "metadata": {},
   "outputs": [],
   "source": [
    "def clean_text(np_array):\n",
    "    # Function to clean text: remove punctuation and expand contractions\n",
    "    cleaned_text = []\n",
    "    \n",
    "    # Iterate over each string in the numpy array\n",
    "    for text in np_array:\n",
    "\n",
    "        # Text lower-cased\n",
    "        text_lowered = text.lower()\n",
    "\n",
    "        # Remove punctuation\n",
    "        text_no_punct = text_lowered.translate(str.maketrans('', '', string.punctuation))\n",
    "        \n",
    "        # Expand contractions\n",
    "        text_expanded = contractions.fix(text_no_punct)\n",
    "        \n",
    "        # Append cleaned text to the list\n",
    "        cleaned_text.append(text_expanded)\n",
    "    \n",
    "    return np.array(cleaned_text)"
   ]
  },
  {
   "cell_type": "code",
   "execution_count": 194,
   "metadata": {},
   "outputs": [],
   "source": [
    "input_cleaned = clean_text(input_texts)"
   ]
  },
  {
   "cell_type": "code",
   "execution_count": 238,
   "metadata": {},
   "outputs": [],
   "source": [
    "def remove_urdu_punctuation(np_array):\n",
    "    # Function to clean text: remove punctuation and expand contractions\n",
    "    cleaned_text = []\n",
    "\n",
    "    urdu_punctuations = [\n",
    "        '۔', '،', '؟', '؍', '؏', 'ؒ', '۝', 'ۖ', 'ۚ', 'ۛ', 'ۜ', '۝', '۞', '۟', '۠'\n",
    "    ]\n",
    "    \n",
    "    # Iterate over each string in the numpy array\n",
    "    for text in np_array:\n",
    "\n",
    "        # Create a regex pattern that matches any Urdu punctuation\n",
    "        pattern = f\"[{''.join(urdu_punctuations)}]\"\n",
    "        \n",
    "        cleaned_text.append(re.sub(pattern, '', text))\n",
    "    \n",
    "    return np.array(cleaned_text)"
   ]
  },
  {
   "cell_type": "code",
   "execution_count": 240,
   "metadata": {},
   "outputs": [],
   "source": [
    "target_cleaned = remove_urdu_punctuation(target_texts)"
   ]
  },
  {
   "cell_type": "code",
   "execution_count": null,
   "metadata": {},
   "outputs": [],
   "source": [
    "model_path = 'urduvec_140M_100K_300d.bin'   # Download from this link: \"https://github.com/samarh/urduvec\"\n",
    "\n",
    "# Load the Word2Vec model\n",
    "word2vec_urdu = KeyedVectors.load_word2vec_format(model_path, binary=True)"
   ]
  },
  {
   "cell_type": "code",
   "execution_count": null,
   "metadata": {},
   "outputs": [],
   "source": [
    "model_path = 'GoogleNews-vectors-negative300-SLIM.bin'  # Download from this link: \"https://github.com/eyaler/word2vec-slim/blob/master/GoogleNews-vectors-negative300-SLIM.bin.gz\"\n",
    "\n",
    "# Load the Word2Vec model\n",
    "word2vec_eng = KeyedVectors.load_word2vec_format(model_path, binary=True)\n"
   ]
  },
  {
   "cell_type": "code",
   "execution_count": 237,
   "metadata": {},
   "outputs": [
    {
     "name": "stderr",
     "output_type": "stream",
     "text": [
      "c:\\Users\\chaud\\AppData\\Local\\Programs\\Python\\Python312\\Lib\\site-packages\\gensim\\models\\keyedvectors.py:551: UserWarning: Adding single vectors to a KeyedVectors which grows by one each time can be costly. Consider adding in batches or preallocating to the required size.\n",
      "  warnings.warn(\n"
     ]
    },
    {
     "data": {
      "text/plain": [
       "102217"
      ]
     },
     "execution_count": 237,
     "metadata": {},
     "output_type": "execute_result"
    }
   ],
   "source": [
    "urdu_embedding_size = word2vec_urdu.vector_size\n",
    "sos_vector = np.random.uniform(-0.25, 0.25, urdu_embedding_size)  # Random initialization\n",
    "eos_vector = np.random.uniform(-0.25, 0.25, urdu_embedding_size)  # Random initialization\n",
    "unk_vector = np.random.uniform(-0.25, 0.25, urdu_embedding_size)  # Random initialization\n",
    "pad_vector = np.zeros(urdu_embedding_size)  # Zero vector for padding\n",
    "\n",
    "word2vec_urdu.add_vector('<unk>', unk_vector)\n",
    "word2vec_urdu.add_vector('<pad>', pad_vector)\n",
    "word2vec_urdu.add_vector('<sos>', unk_vector)\n",
    "word2vec_urdu.add_vector('<eos>', pad_vector)"
   ]
  },
  {
   "cell_type": "code",
   "execution_count": null,
   "metadata": {},
   "outputs": [
    {
     "name": "stderr",
     "output_type": "stream",
     "text": [
      "c:\\Users\\chaud\\AppData\\Local\\Programs\\Python\\Python312\\Lib\\site-packages\\gensim\\models\\keyedvectors.py:551: UserWarning: Adding single vectors to a KeyedVectors which grows by one each time can be costly. Consider adding in batches or preallocating to the required size.\n",
      "  warnings.warn(\n"
     ]
    },
    {
     "data": {
      "text/plain": [
       "299569"
      ]
     },
     "execution_count": 228,
     "metadata": {},
     "output_type": "execute_result"
    }
   ],
   "source": [
    "# Adding special tokens to embedding\n",
    "\n",
    "# Define the embedding size (for the GoogleNews vectors, it's 300)\n",
    "eng_embedding_size = word2vec_eng.vector_size\n",
    "\n",
    "# Initialize the <unk> and <pad> vectors (either zero or random)\n",
    "unk_vector = np.random.uniform(-0.25, 0.25, eng_embedding_size)  # Random initialization\n",
    "pad_vector = np.zeros(eng_embedding_size)  # Zero vector for padding\n",
    "\n",
    "# Add <unk> and <pad> to the model's vocabulary\n",
    "word2vec_eng.add_vector('<unk>', unk_vector)\n",
    "word2vec_eng.add_vector('<pad>', pad_vector)"
   ]
  },
  {
   "cell_type": "code",
   "execution_count": null,
   "metadata": {},
   "outputs": [],
   "source": [
    "def to_indexed(input_sentences, word2vec, add_special_tokens=False):\n",
    "    max_length = 0\n",
    "    indexed_sentences = []\n",
    "    vocab = {'<pad>': 0, '<unk>': 1}\n",
    "    vocab_idx = 1\n",
    "    embeddings = [\n",
    "        word2vec[word2vec.key_to_index['<pad>']].T, # 0\n",
    "        word2vec[word2vec.key_to_index['<unk>']].T  # 1\n",
    "    ]\n",
    "    if add_special_tokens:\n",
    "        vocab['<sos>'] = 2\n",
    "        vocab['<eos>'] = 3\n",
    "        embeddings.append(word2vec[word2vec.key_to_index['<sos>']].T)  # 2\n",
    "        embeddings.append(word2vec[word2vec.key_to_index['<eos>']].T)  # 3\n",
    "        vocab_idx = 3\n",
    "    for sentence in input_sentences:\n",
    "        indexed_sentence = []\n",
    "        if add_special_tokens:\n",
    "            indexed_sentence.append(vocab['<sos>'])\n",
    "        sentence = sentence.strip().split()\n",
    "        sen_len = len(sentence)\n",
    "        if sen_len > max_length:\n",
    "            max_length = sen_len\n",
    "        # Replace words with indices, use <unk> if word is not in vocabulary\n",
    "        for word in sentence:\n",
    "            if word in word2vec.key_to_index:\n",
    "                if word in vocab:\n",
    "                    indexed_sentence.append(vocab[word])\n",
    "                else:\n",
    "                    vocab_idx += 1\n",
    "                    vocab[word] = vocab_idx\n",
    "                    embeddings.append(word2vec[word2vec.key_to_index[word]].T)\n",
    "            else:\n",
    "                indexed_sentence.append(vocab['<unk>'])  # Use <unk> if word is missing\n",
    "        if add_special_tokens:\n",
    "            indexed_sentence.append(vocab['<eos>'])\n",
    "        indexed_sentences.append(indexed_sentence)\n",
    "    \n",
    "    if add_special_tokens:\n",
    "        max_length += 2\n",
    "\n",
    "    for i in range(len(indexed_sentences)):\n",
    "        diff = max_length - len(indexed_sentences[i])\n",
    "        if diff > 0:\n",
    "            for _ in range(diff):\n",
    "                indexed_sentences[i].append(vocab['<pad>'])\n",
    "\n",
    "    indexed_sentences = np.array(indexed_sentences)\n",
    "    embeddings = np.array(embeddings)\n",
    "\n",
    "    return indexed_sentences, embeddings, vocab, max_length"
   ]
  },
  {
   "cell_type": "code",
   "execution_count": 304,
   "metadata": {},
   "outputs": [],
   "source": [
    "input_indexed, embeddings_input, vocab_input, max_length_input = to_indexed(input_cleaned, word2vec=word2vec_eng)\n",
    "target_indexed, embeddings_target, vocab_target, max_length_target = to_indexed(target_cleaned, word2vec=word2vec_urdu, add_special_tokens=True)"
   ]
  },
  {
   "cell_type": "code",
   "execution_count": 415,
   "metadata": {},
   "outputs": [],
   "source": [
    "input_vocab_size = len(vocab_input)\n",
    "target_vocab_size = len(vocab_target)\n",
    "idx_to_urdu = {i: word for word, i in vocab_target.items()}"
   ]
  },
  {
   "cell_type": "code",
   "execution_count": 294,
   "metadata": {},
   "outputs": [],
   "source": [
    "input_train, input_test, target_train, target_test = train_test_split(input_indexed, target_indexed, test_size=0.2, random_state=20)"
   ]
  },
  {
   "cell_type": "code",
   "execution_count": null,
   "metadata": {},
   "outputs": [],
   "source": [
    "class BLEUScoreCallback(Callback):\n",
    "    def __init__(self, val_data, index_to_word, batch_size=64):\n",
    "        super(BLEUScoreCallback, self).__init__()\n",
    "        self.val_data = val_data\n",
    "        self.index_to_word = index_to_word\n",
    "        self.batch_size = batch_size\n",
    "\n",
    "    def convert_to_words(self, seq):\n",
    "        # Convert integer sequence to words using the index_to_word mapping\n",
    "        words = [self.index_to_word[int(idx)] for idx in seq]\n",
    "        return \" \".join(words)\n",
    "\n",
    "    def compute_bleu_score(self, y_pred, y_true):\n",
    "        # Convert predicted and true sequences to words\n",
    "        y_pred_words = [self.convert_to_words(seq) for seq in y_pred]\n",
    "        y_true_words = [self.convert_to_words(seq) for seq in y_true]\n",
    "\n",
    "        # Compute BLEU score using sacrebleu\n",
    "        bleu_score = sacrebleu.corpus_bleu(y_pred_words, [y_true_words])\n",
    "        return bleu_score.score\n",
    "\n",
    "    def on_epoch_end(self, epoch, logs=None):\n",
    "        # Get the validation data (encoder inputs, decoder inputs, and decoder targets)\n",
    "        val_encoder_input_data, val_decoder_input_data, val_decoder_target_data = self.val_data\n",
    "\n",
    "        # Predict using the model on the validation data\n",
    "        y_pred = self.model.predict([val_encoder_input_data, val_decoder_input_data], batch_size=self.batch_size, verbose=0)\n",
    "\n",
    "        # Compute BLEU score\n",
    "        bleu_score = self.compute_bleu_score(np.argmax(y_pred, axis=-1), val_decoder_target_data)\n",
    "        logs['val_bleu_score'] = bleu_score"
   ]
  },
  {
   "cell_type": "code",
   "execution_count": null,
   "metadata": {},
   "outputs": [],
   "source": [
    "# Define the model\n",
    "latent_dim = 64\n",
    "\n",
    "# Encoder\n",
    "encoder_inputs = Input(shape=(None,))   # Defines input sequence of variable length\n",
    "encoder_embedding = Embedding(input_vocab_size, eng_embedding_size, weights=[embeddings_input], trainable=False, mask_zero=True)(encoder_inputs)\n",
    "encoder_lstm = LSTM(latent_dim, return_state=True, return_sequences=False)\n",
    "_, state_h, state_c = encoder_lstm(encoder_embedding)  # state_h, state_c from last token of sequence in encoder (context vectors)\n",
    "encoder_states = [state_h, state_c]\n",
    "\n",
    "# Decoder\n",
    "decoder_inputs = Input(shape=(None,))\n",
    "decoder_embedding = Embedding(target_vocab_size, urdu_embedding_size, weights=[embeddings_target], trainable=False, mask_zero=True)(decoder_inputs)\n",
    "decoder_lstm = LSTM(latent_dim, return_sequences=True, return_state=True)\n",
    "decoder_outputs, _, _ = decoder_lstm(decoder_embedding, initial_state=encoder_states)   # Returns state_h, state_c for all sequences\n",
    "decoder_dense = Dense(target_vocab_size, activation='softmax')  # Dense layer for creating probabilities for words in the vocabulary\n",
    "decoder_outputs = decoder_dense(decoder_outputs)\n",
    "\n",
    "encoder_input_data = np.copy(input_train)\n",
    "decoder_input_data = np.copy(target_train)\n",
    "decoder_target_data = np.zeros_like(decoder_input_data)\n",
    "decoder_target_data[:, :-1] = decoder_input_data[:, 1:]     # Given an input to the decoder it predicts the next token in the decoder_input_data\n",
    "\n",
    "\n",
    "# Assuming test data is indexed similarly to training data\n",
    "test_encoder_input_data = np.copy(input_test)\n",
    "test_decoder_input_data = np.copy(target_test)\n",
    "\n",
    "# Create decoder target data for test set\n",
    "test_decoder_target_data = np.zeros_like(test_decoder_input_data)\n",
    "test_decoder_target_data[:, :-1] = test_decoder_input_data[:, 1:]\n",
    "\n",
    "\n",
    "# Define the model\n",
    "model = Model([encoder_inputs, decoder_inputs], decoder_outputs)\n",
    "\n",
    "# Compile the model\n",
    "model.compile(optimizer=Adam(0.01), loss='sparse_categorical_crossentropy', metrics=['accuracy'])\n",
    "\n",
    "# Instantiate the BLEU score callback\n",
    "bleu_callback = BLEUScoreCallback(\n",
    "    val_data=(test_encoder_input_data, test_decoder_input_data, test_decoder_target_data),\n",
    "    index_to_word=idx_to_urdu,  # A function or dictionary to map indices to words\n",
    "    batch_size=64\n",
    ")\n",
    "\n",
    "# Train the model\n",
    "history = model.fit([encoder_input_data, decoder_input_data],\n",
    "          decoder_target_data,\n",
    "          batch_size=64,\n",
    "          epochs=50,\n",
    "          validation_data=([test_encoder_input_data, test_decoder_input_data], test_decoder_target_data),\n",
    "          callbacks=[bleu_callback])\n",
    "\n",
    "# Inference Models for Encoding and Decoding\n",
    "\n",
    "# Encoder Model\n",
    "encoder_model = Model(encoder_inputs, encoder_states)\n",
    "\n",
    "# Decoder Model\n",
    "decoder_state_input_h = Input(shape=(latent_dim,))\n",
    "decoder_state_input_c = Input(shape=(latent_dim,))\n",
    "decoder_states_inputs = [decoder_state_input_h, decoder_state_input_c]\n",
    "decoder_lstm_outputs, state_h, state_c = decoder_lstm(               # decoder_lstm_outputs has h,c for all sequences. state_h, state_c are after last token\n",
    "    decoder_embedding, initial_state=decoder_states_inputs\n",
    ")\n",
    "decoder_states = [state_h, state_c]\n",
    "decoder_outputs = decoder_dense(decoder_lstm_outputs)   # decoder_lstm_outputs passes through dense layer to give probabilities for words in the vocabulary\n",
    "decoder_model = Model([decoder_inputs] + decoder_states_inputs, [decoder_outputs] + decoder_states)"
   ]
  },
  {
   "cell_type": "code",
   "execution_count": 655,
   "metadata": {},
   "outputs": [],
   "source": [
    "training_ds_loss_history = history.history['loss']\n",
    "testing_ds_loss_history = history.history['val_loss']"
   ]
  },
  {
   "cell_type": "code",
   "execution_count": 656,
   "metadata": {},
   "outputs": [
    {
     "data": {
      "image/png": "[encoded data removed]",
      "text/plain": [
       "<Figure size 900x600 with 1 Axes>"
      ]
     },
     "metadata": {},
     "output_type": "display_data"
    }
   ],
   "source": [
    "iterations = np.arange(1, len(training_ds_loss_history)+1)\n",
    "plt.figure(figsize=(9, 6))\n",
    "plt.plot(iterations, training_ds_loss_history, linewidth=2, label='Training Dataset')\n",
    "plt.plot(iterations, testing_ds_loss_history, linewidth=2, label='Testing Dataset')\n",
    "plt.title('Sparse Categorical Cross-Entropy vs Epochs', fontsize=25)\n",
    "plt.xlabel('Epoch', fontsize=20)\n",
    "plt.ylabel('Sparse Categorical Cross-Entropy ', fontsize=20)\n",
    "plt.xticks(fontsize=16)\n",
    "plt.yticks(fontsize=16)\n",
    "plt.grid(True)\n",
    "plt.tight_layout()\n",
    "plt.legend(fontsize=16)\n",
    "plt.savefig('scce.png', dpi=300)\n",
    "plt.show()"
   ]
  },
  {
   "cell_type": "code",
   "execution_count": 657,
   "metadata": {},
   "outputs": [],
   "source": [
    "def compute_bleu_score(y_pred, y_true, idx_to_word):\n",
    "\n",
    "    def convert_to_words(seq):\n",
    "        # Convert integer sequence to words using the index_to_word mapping\n",
    "        words = [idx_to_word[int(idx)] for idx in seq]\n",
    "        return \" \".join(words)\n",
    "    \n",
    "    # Convert predicted and true sequences to words\n",
    "    y_pred_words = [convert_to_words(seq) for seq in y_pred]\n",
    "    y_true_words = [convert_to_words(seq) for seq in y_true]\n",
    "\n",
    "    # Compute BLEU score using sacrebleu\n",
    "    bleu_score = sacrebleu.corpus_bleu(y_pred_words, [y_true_words])\n",
    "    return bleu_score.score"
   ]
  },
  {
   "cell_type": "code",
   "execution_count": 690,
   "metadata": {},
   "outputs": [
    {
     "name": "stdout",
     "output_type": "stream",
     "text": [
      "Training Dataset Accuracy: 98.93% | Training Dataset Loss (SCCE): 0.1212\n"
     ]
    }
   ],
   "source": [
    "training_loss, training_accuracy = model.evaluate([encoder_input_data, decoder_input_data], decoder_target_data, verbose=0)\n",
    "print(f\"Training Dataset Accuracy: {training_accuracy * 100:.2f}% | Training Dataset Loss (SCCE): {training_loss:.4f}\")"
   ]
  },
  {
   "cell_type": "code",
   "execution_count": 658,
   "metadata": {},
   "outputs": [
    {
     "name": "stdout",
     "output_type": "stream",
     "text": [
      "Testing Dataset Accuracy: 89.16% | Testing Dataset Loss (SCCE): 1.2997\n"
     ]
    }
   ],
   "source": [
    "test_loss, test_accuracy = model.evaluate([test_encoder_input_data, test_decoder_input_data], test_decoder_target_data, verbose=0)\n",
    "print(f\"Testing Dataset Accuracy: {test_accuracy * 100:.2f}% | Testing Dataset Loss (SCCE): {test_loss:.4f}\")"
   ]
  },
  {
   "cell_type": "code",
   "execution_count": 659,
   "metadata": {},
   "outputs": [],
   "source": [
    "y_pred = model.predict([test_encoder_input_data, test_decoder_input_data], verbose=0)\n",
    "predicted_word_indices = np.argmax(y_pred, axis=-1)"
   ]
  },
  {
   "cell_type": "code",
   "execution_count": 660,
   "metadata": {},
   "outputs": [
    {
     "name": "stdout",
     "output_type": "stream",
     "text": [
      "Testing Dataset BLEU score: 91.6024\n"
     ]
    }
   ],
   "source": [
    "bleu_score = compute_bleu_score(predicted_word_indices, test_decoder_target_data, idx_to_urdu)\n",
    "print(f\"Testing Dataset BLEU score: {bleu_score:.4f}\")"
   ]
  },
  {
   "cell_type": "code",
   "execution_count": 661,
   "metadata": {},
   "outputs": [],
   "source": [
    "def preprocess_input_sentence(sentence, word_to_idx):\n",
    "    sentence = sentence.lower()\n",
    "    # Remove punctuation\n",
    "    sentence = sentence.translate(str.maketrans('', '', string.punctuation))\n",
    "    \n",
    "    # Expand contractions\n",
    "    sentence = contractions.fix(sentence)\n",
    "    sentence = sentence.strip().split()\n",
    "    sentence_indexed = []\n",
    "    for i in range(len(sentence)):\n",
    "        if sentence[i] in word_to_idx:\n",
    "            sentence_indexed.append(word_to_idx[sentence[i]])\n",
    "        else:\n",
    "            print(f'''Warning: \"{sentence[i]}\" is not in the vocabulary''')\n",
    "            sentence_indexed.append(word_to_idx['<unk>'])\n",
    "    return sentence_indexed"
   ]
  },
  {
   "cell_type": "code",
   "execution_count": 662,
   "metadata": {},
   "outputs": [],
   "source": [
    "def decode_sequence(input_seq, idx_to_urdu, max_target_len):\n",
    "    # Encode the input as state vectors\n",
    "    states_value = encoder_model.predict(input_seq, verbose=0)\n",
    "\n",
    "    # Initialize target sequence with the first word (start-of-sequence token)\n",
    "    target_seq = np.zeros((1, 1))\n",
    "    target_seq[0, 0] = vocab_target['<sos>']  # Ensure <sos> is in your target vocabulary\n",
    "\n",
    "    decoded_sentence = ''\n",
    "\n",
    "    while True:\n",
    "        # Predict the next word\n",
    "        output_tokens, h, c = decoder_model.predict([target_seq] + states_value, verbose=0)\n",
    "\n",
    "        # Get the token with the highest probability\n",
    "        predicted_token_index = np.argmax(output_tokens[0, -1, :])\n",
    "        predicted_word = idx_to_urdu[predicted_token_index]\n",
    "\n",
    "        # Append the predicted word to the output\n",
    "        if predicted_word == '<eos>':\n",
    "            break  # Stop decoding when <eos> is predicted\n",
    "        elif predicted_token_index == 0:\n",
    "            break   # Stop decoding when <pad> is predicted\n",
    "        else:\n",
    "            decoded_sentence += ' ' + predicted_word\n",
    "\n",
    "        # Update the target sequence with the predicted word\n",
    "        target_seq = np.zeros((1, 1))\n",
    "        target_seq[0, 0] = predicted_token_index\n",
    "\n",
    "        # Update states\n",
    "        states_value = [h, c]\n",
    "\n",
    "        # Stop decoding if the maximum target length is reached\n",
    "        if len(decoded_sentence.split()) >= max_target_len:\n",
    "            break\n",
    "\n",
    "    return decoded_sentence.strip()"
   ]
  },
  {
   "cell_type": "code",
   "execution_count": 709,
   "metadata": {},
   "outputs": [
    {
     "name": "stdout",
     "output_type": "stream",
     "text": [
      "Translation:\n"
     ]
    },
    {
     "data": {
      "text/plain": [
       "'مجھے افسوس ہے'"
      ]
     },
     "execution_count": 709,
     "metadata": {},
     "output_type": "execute_result"
    }
   ],
   "source": [
    "sentence = \"I am sorry\"\n",
    "sentence_indexed = preprocess_input_sentence(sentence, vocab_input)\n",
    "sentence_indexed = np.array(sentence_indexed).reshape(1, -1)\n",
    "print('Translation:')\n",
    "decode_sequence(sentence_indexed, idx_to_urdu, max_length_target)"
   ]
  },
  {
   "cell_type": "code",
   "execution_count": 711,
   "metadata": {},
   "outputs": [
    {
     "name": "stdout",
     "output_type": "stream",
     "text": [
      "Models saved successfully!\n"
     ]
    }
   ],
   "source": [
    "# Save the models\n",
    "encoder_model.save('encoder_model.keras')\n",
    "decoder_model.save('decoder_model.keras')\n",
    "\n",
    "print(\"Models saved successfully!\")"
   ]
  },
  {
   "cell_type": "markdown",
   "metadata": {},
   "source": [
    "### Accuracy, BLEU Score Figures Generation Ahead"
   ]
  },
  {
   "cell_type": "code",
   "execution_count": null,
   "metadata": {},
   "outputs": [
    {
     "data": {
      "application/vnd.plotly.v1+json": {
       "config": {
        "plotlyServerURL": "https://plot.ly"
       },
       "data": [
        {
         "gauge": {
          "axis": {
           "range": [
            0,
            100
           ]
          },
          "bar": {
           "color": "green"
          },
          "steps": [
           {
            "color": "lightcoral",
            "range": [
             0,
             50
            ]
           },
           {
            "color": "#FFA500",
            "range": [
             50,
             70
            ]
           },
           {
            "color": "yellow",
            "range": [
             70,
             80
            ]
           },
           {
            "color": "lightgreen",
            "range": [
             80,
             90
            ]
           },
           {
            "color": "green",
            "range": [
             90,
             100
            ]
           }
          ]
         },
         "mode": "gauge+number",
         "number": {
          "suffix": "%"
         },
         "title": {
          "text": "Model Accuracy for Test Set"
         },
         "type": "indicator",
         "value": 89.16323184967041
        }
       ],
       "layout": {
        "height": 400,
        "template": {
         "data": {
          "bar": [
           {
            "error_x": {
             "color": "#2a3f5f"
            },
            "error_y": {
             "color": "#2a3f5f"
            },
            "marker": {
             "line": {
              "color": "#E5ECF6",
              "width": 0.5
             },
             "pattern": {
              "fillmode": "overlay",
              "size": 10,
              "solidity": 0.2
             }
            },
            "type": "bar"
           }
          ],
          "barpolar": [
           {
            "marker": {
             "line": {
              "color": "#E5ECF6",
              "width": 0.5
             },
             "pattern": {
              "fillmode": "overlay",
              "size": 10,
              "solidity": 0.2
             }
            },
            "type": "barpolar"
           }
          ],
          "carpet": [
           {
            "aaxis": {
             "endlinecolor": "#2a3f5f",
             "gridcolor": "white",
             "linecolor": "white",
             "minorgridcolor": "white",
             "startlinecolor": "#2a3f5f"
            },
            "baxis": {
             "endlinecolor": "#2a3f5f",
             "gridcolor": "white",
             "linecolor": "white",
             "minorgridcolor": "white",
             "startlinecolor": "#2a3f5f"
            },
            "type": "carpet"
           }
          ],
          "choropleth": [
           {
            "colorbar": {
             "outlinewidth": 0,
             "ticks": ""
            },
            "type": "choropleth"
           }
          ],
          "contour": [
           {
            "colorbar": {
             "outlinewidth": 0,
             "ticks": ""
            },
            "colorscale": [
             [
              0,
              "#0d0887"
             ],
             [
              0.1111111111111111,
              "#46039f"
             ],
             [
              0.2222222222222222,
              "#7201a8"
             ],
             [
              0.3333333333333333,
              "#9c179e"
             ],
             [
              0.4444444444444444,
              "#bd3786"
             ],
             [
              0.5555555555555556,
              "#d8576b"
             ],
             [
              0.6666666666666666,
              "#ed7953"
             ],
             [
              0.7777777777777778,
              "#fb9f3a"
             ],
             [
              0.8888888888888888,
              "#fdca26"
             ],
             [
              1,
              "#f0f921"
             ]
            ],
            "type": "contour"
           }
          ],
          "contourcarpet": [
           {
            "colorbar": {
             "outlinewidth": 0,
             "ticks": ""
            },
            "type": "contourcarpet"
           }
          ],
          "heatmap": [
           {
            "colorbar": {
             "outlinewidth": 0,
             "ticks": ""
            },
            "colorscale": [
             [
              0,
              "#0d0887"
             ],
             [
              0.1111111111111111,
              "#46039f"
             ],
             [
              0.2222222222222222,
              "#7201a8"
             ],
             [
              0.3333333333333333,
              "#9c179e"
             ],
             [
              0.4444444444444444,
              "#bd3786"
             ],
             [
              0.5555555555555556,
              "#d8576b"
             ],
             [
              0.6666666666666666,
              "#ed7953"
             ],
             [
              0.7777777777777778,
              "#fb9f3a"
             ],
             [
              0.8888888888888888,
              "#fdca26"
             ],
             [
              1,
              "#f0f921"
             ]
            ],
            "type": "heatmap"
           }
          ],
          "heatmapgl": [
           {
            "colorbar": {
             "outlinewidth": 0,
             "ticks": ""
            },
            "colorscale": [
             [
              0,
              "#0d0887"
             ],
             [
              0.1111111111111111,
              "#46039f"
             ],
             [
              0.2222222222222222,
              "#7201a8"
             ],
             [
              0.3333333333333333,
              "#9c179e"
             ],
             [
              0.4444444444444444,
              "#bd3786"
             ],
             [
              0.5555555555555556,
              "#d8576b"
             ],
             [
              0.6666666666666666,
              "#ed7953"
             ],
             [
              0.7777777777777778,
              "#fb9f3a"
             ],
             [
              0.8888888888888888,
              "#fdca26"
             ],
             [
              1,
              "#f0f921"
             ]
            ],
            "type": "heatmapgl"
           }
          ],
          "histogram": [
           {
            "marker": {
             "pattern": {
              "fillmode": "overlay",
              "size": 10,
              "solidity": 0.2
             }
            },
            "type": "histogram"
           }
          ],
          "histogram2d": [
           {
            "colorbar": {
             "outlinewidth": 0,
             "ticks": ""
            },
            "colorscale": [
             [
              0,
              "#0d0887"
             ],
             [
              0.1111111111111111,
              "#46039f"
             ],
             [
              0.2222222222222222,
              "#7201a8"
             ],
             [
              0.3333333333333333,
              "#9c179e"
             ],
             [
              0.4444444444444444,
              "#bd3786"
             ],
             [
              0.5555555555555556,
              "#d8576b"
             ],
             [
              0.6666666666666666,
              "#ed7953"
             ],
             [
              0.7777777777777778,
              "#fb9f3a"
             ],
             [
              0.8888888888888888,
              "#fdca26"
             ],
             [
              1,
              "#f0f921"
             ]
            ],
            "type": "histogram2d"
           }
          ],
          "histogram2dcontour": [
           {
            "colorbar": {
             "outlinewidth": 0,
             "ticks": ""
            },
            "colorscale": [
             [
              0,
              "#0d0887"
             ],
             [
              0.1111111111111111,
              "#46039f"
             ],
             [
              0.2222222222222222,
              "#7201a8"
             ],
             [
              0.3333333333333333,
              "#9c179e"
             ],
             [
              0.4444444444444444,
              "#bd3786"
             ],
             [
              0.5555555555555556,
              "#d8576b"
             ],
             [
              0.6666666666666666,
              "#ed7953"
             ],
             [
              0.7777777777777778,
              "#fb9f3a"
             ],
             [
              0.8888888888888888,
              "#fdca26"
             ],
             [
              1,
              "#f0f921"
             ]
            ],
            "type": "histogram2dcontour"
           }
          ],
          "mesh3d": [
           {
            "colorbar": {
             "outlinewidth": 0,
             "ticks": ""
            },
            "type": "mesh3d"
           }
          ],
          "parcoords": [
           {
            "line": {
             "colorbar": {
              "outlinewidth": 0,
              "ticks": ""
             }
            },
            "type": "parcoords"
           }
          ],
          "pie": [
           {
            "automargin": true,
            "type": "pie"
           }
          ],
          "scatter": [
           {
            "fillpattern": {
             "fillmode": "overlay",
             "size": 10,
             "solidity": 0.2
            },
            "type": "scatter"
           }
          ],
          "scatter3d": [
           {
            "line": {
             "colorbar": {
              "outlinewidth": 0,
              "ticks": ""
             }
            },
            "marker": {
             "colorbar": {
              "outlinewidth": 0,
              "ticks": ""
             }
            },
            "type": "scatter3d"
           }
          ],
          "scattercarpet": [
           {
            "marker": {
             "colorbar": {
              "outlinewidth": 0,
              "ticks": ""
             }
            },
            "type": "scattercarpet"
           }
          ],
          "scattergeo": [
           {
            "marker": {
             "colorbar": {
              "outlinewidth": 0,
              "ticks": ""
             }
            },
            "type": "scattergeo"
           }
          ],
          "scattergl": [
           {
            "marker": {
             "colorbar": {
              "outlinewidth": 0,
              "ticks": ""
             }
            },
            "type": "scattergl"
           }
          ],
          "scattermapbox": [
           {
            "marker": {
             "colorbar": {
              "outlinewidth": 0,
              "ticks": ""
             }
            },
            "type": "scattermapbox"
           }
          ],
          "scatterpolar": [
           {
            "marker": {
             "colorbar": {
              "outlinewidth": 0,
              "ticks": ""
             }
            },
            "type": "scatterpolar"
           }
          ],
          "scatterpolargl": [
           {
            "marker": {
             "colorbar": {
              "outlinewidth": 0,
              "ticks": ""
             }
            },
            "type": "scatterpolargl"
           }
          ],
          "scatterternary": [
           {
            "marker": {
             "colorbar": {
              "outlinewidth": 0,
              "ticks": ""
             }
            },
            "type": "scatterternary"
           }
          ],
          "surface": [
           {
            "colorbar": {
             "outlinewidth": 0,
             "ticks": ""
            },
            "colorscale": [
             [
              0,
              "#0d0887"
             ],
             [
              0.1111111111111111,
              "#46039f"
             ],
             [
              0.2222222222222222,
              "#7201a8"
             ],
             [
              0.3333333333333333,
              "#9c179e"
             ],
             [
              0.4444444444444444,
              "#bd3786"
             ],
             [
              0.5555555555555556,
              "#d8576b"
             ],
             [
              0.6666666666666666,
              "#ed7953"
             ],
             [
              0.7777777777777778,
              "#fb9f3a"
             ],
             [
              0.8888888888888888,
              "#fdca26"
             ],
             [
              1,
              "#f0f921"
             ]
            ],
            "type": "surface"
           }
          ],
          "table": [
           {
            "cells": {
             "fill": {
              "color": "#EBF0F8"
             },
             "line": {
              "color": "white"
             }
            },
            "header": {
             "fill": {
              "color": "#C8D4E3"
             },
             "line": {
              "color": "white"
             }
            },
            "type": "table"
           }
          ]
         },
         "layout": {
          "annotationdefaults": {
           "arrowcolor": "#2a3f5f",
           "arrowhead": 0,
           "arrowwidth": 1
          },
          "autotypenumbers": "strict",
          "coloraxis": {
           "colorbar": {
            "outlinewidth": 0,
            "ticks": ""
           }
          },
          "colorscale": {
           "diverging": [
            [
             0,
             "#8e0152"
            ],
            [
             0.1,
             "#c51b7d"
            ],
            [
             0.2,
             "#de77ae"
            ],
            [
             0.3,
             "#f1b6da"
            ],
            [
             0.4,
             "#fde0ef"
            ],
            [
             0.5,
             "#f7f7f7"
            ],
            [
             0.6,
             "#e6f5d0"
            ],
            [
             0.7,
             "#b8e186"
            ],
            [
             0.8,
             "#7fbc41"
            ],
            [
             0.9,
             "#4d9221"
            ],
            [
             1,
             "#276419"
            ]
           ],
           "sequential": [
            [
             0,
             "#0d0887"
            ],
            [
             0.1111111111111111,
             "#46039f"
            ],
            [
             0.2222222222222222,
             "#7201a8"
            ],
            [
             0.3333333333333333,
             "#9c179e"
            ],
            [
             0.4444444444444444,
             "#bd3786"
            ],
            [
             0.5555555555555556,
             "#d8576b"
            ],
            [
             0.6666666666666666,
             "#ed7953"
            ],
            [
             0.7777777777777778,
             "#fb9f3a"
            ],
            [
             0.8888888888888888,
             "#fdca26"
            ],
            [
             1,
             "#f0f921"
            ]
           ],
           "sequentialminus": [
            [
             0,
             "#0d0887"
            ],
            [
             0.1111111111111111,
             "#46039f"
            ],
            [
             0.2222222222222222,
             "#7201a8"
            ],
            [
             0.3333333333333333,
             "#9c179e"
            ],
            [
             0.4444444444444444,
             "#bd3786"
            ],
            [
             0.5555555555555556,
             "#d8576b"
            ],
            [
             0.6666666666666666,
             "#ed7953"
            ],
            [
             0.7777777777777778,
             "#fb9f3a"
            ],
            [
             0.8888888888888888,
             "#fdca26"
            ],
            [
             1,
             "#f0f921"
            ]
           ]
          },
          "colorway": [
           "#636efa",
           "#EF553B",
           "#00cc96",
           "#ab63fa",
           "#FFA15A",
           "#19d3f3",
           "#FF6692",
           "#B6E880",
           "#FF97FF",
           "#FECB52"
          ],
          "font": {
           "color": "#2a3f5f"
          },
          "geo": {
           "bgcolor": "white",
           "lakecolor": "white",
           "landcolor": "#E5ECF6",
           "showlakes": true,
           "showland": true,
           "subunitcolor": "white"
          },
          "hoverlabel": {
           "align": "left"
          },
          "hovermode": "closest",
          "mapbox": {
           "style": "light"
          },
          "paper_bgcolor": "white",
          "plot_bgcolor": "#E5ECF6",
          "polar": {
           "angularaxis": {
            "gridcolor": "white",
            "linecolor": "white",
            "ticks": ""
           },
           "bgcolor": "#E5ECF6",
           "radialaxis": {
            "gridcolor": "white",
            "linecolor": "white",
            "ticks": ""
           }
          },
          "scene": {
           "xaxis": {
            "backgroundcolor": "#E5ECF6",
            "gridcolor": "white",
            "gridwidth": 2,
            "linecolor": "white",
            "showbackground": true,
            "ticks": "",
            "zerolinecolor": "white"
           },
           "yaxis": {
            "backgroundcolor": "#E5ECF6",
            "gridcolor": "white",
            "gridwidth": 2,
            "linecolor": "white",
            "showbackground": true,
            "ticks": "",
            "zerolinecolor": "white"
           },
           "zaxis": {
            "backgroundcolor": "#E5ECF6",
            "gridcolor": "white",
            "gridwidth": 2,
            "linecolor": "white",
            "showbackground": true,
            "ticks": "",
            "zerolinecolor": "white"
           }
          },
          "shapedefaults": {
           "line": {
            "color": "#2a3f5f"
           }
          },
          "ternary": {
           "aaxis": {
            "gridcolor": "white",
            "linecolor": "white",
            "ticks": ""
           },
           "baxis": {
            "gridcolor": "white",
            "linecolor": "white",
            "ticks": ""
           },
           "bgcolor": "#E5ECF6",
           "caxis": {
            "gridcolor": "white",
            "linecolor": "white",
            "ticks": ""
           }
          },
          "title": {
           "x": 0.05
          },
          "xaxis": {
           "automargin": true,
           "gridcolor": "white",
           "linecolor": "white",
           "ticks": "",
           "title": {
            "standoff": 15
           },
           "zerolinecolor": "white",
           "zerolinewidth": 2
          },
          "yaxis": {
           "automargin": true,
           "gridcolor": "white",
           "linecolor": "white",
           "ticks": "",
           "title": {
            "standoff": 15
           },
           "zerolinecolor": "white",
           "zerolinewidth": 2
          }
         }
        },
        "width": 600
       }
      }
     },
     "metadata": {},
     "output_type": "display_data"
    }
   ],
   "source": [
    "# import plotly.graph_objects as go\n",
    "\n",
    "# fig = go.Figure(go.Indicator(\n",
    "#     mode=\"gauge+number\",\n",
    "#     value=test_accuracy * 100,\n",
    "#     title={'text': \"Model Accuracy for Test Set\"},\n",
    "#     number={'suffix': \"%\"},\n",
    "#     gauge={\n",
    "#         'axis': {'range': [0, 100]},\n",
    "#         'bar': {'color': \"green\"},\n",
    "#         'steps': [\n",
    "#             {'range': [0, 50], 'color': \"lightcoral\"},\n",
    "#             {'range': [50, 70], 'color': \"#FFA500\"},\n",
    "#             {'range': [70, 80], 'color': \"yellow\"},  # Yellow for range 70-80\n",
    "#             {'range': [80, 90], 'color': \"lightgreen\"},  # Light green for range 80-90\n",
    "#             {'range': [90, 100], 'color': \"green\"}  # Darker green for range 90-100\n",
    "#         ],\n",
    "#     }\n",
    "# ))\n",
    "\n",
    "# fig.update_layout(\n",
    "#     width=600,\n",
    "#     height=400,\n",
    "# )\n",
    "# fig.write_image(\"accuracy.png\", scale=2)\n",
    "# fig.show()\n"
   ]
  },
  {
   "cell_type": "code",
   "execution_count": null,
   "metadata": {},
   "outputs": [
    {
     "data": {
      "application/vnd.plotly.v1+json": {
       "config": {
        "plotlyServerURL": "https://plot.ly"
       },
       "data": [
        {
         "gauge": {
          "axis": {
           "range": [
            0,
            100
           ]
          },
          "bar": {
           "color": "darkgreen"
          },
          "steps": [
           {
            "color": "lightcoral",
            "range": [
             0,
             50
            ]
           },
           {
            "color": "#FFA500",
            "range": [
             50,
             70
            ]
           },
           {
            "color": "yellow",
            "range": [
             70,
             80
            ]
           },
           {
            "color": "lightgreen",
            "range": [
             80,
             90
            ]
           },
           {
            "color": "green",
            "range": [
             90,
             100
            ]
           }
          ]
         },
         "mode": "gauge+number",
         "number": {
          "suffix": "%"
         },
         "title": {
          "text": "Model BLEU Score for Test Set"
         },
         "type": "indicator",
         "value": 91.60243803353741
        }
       ],
       "layout": {
        "height": 400,
        "template": {
         "data": {
          "bar": [
           {
            "error_x": {
             "color": "#2a3f5f"
            },
            "error_y": {
             "color": "#2a3f5f"
            },
            "marker": {
             "line": {
              "color": "#E5ECF6",
              "width": 0.5
             },
             "pattern": {
              "fillmode": "overlay",
              "size": 10,
              "solidity": 0.2
             }
            },
            "type": "bar"
           }
          ],
          "barpolar": [
           {
            "marker": {
             "line": {
              "color": "#E5ECF6",
              "width": 0.5
             },
             "pattern": {
              "fillmode": "overlay",
              "size": 10,
              "solidity": 0.2
             }
            },
            "type": "barpolar"
           }
          ],
          "carpet": [
           {
            "aaxis": {
             "endlinecolor": "#2a3f5f",
             "gridcolor": "white",
             "linecolor": "white",
             "minorgridcolor": "white",
             "startlinecolor": "#2a3f5f"
            },
            "baxis": {
             "endlinecolor": "#2a3f5f",
             "gridcolor": "white",
             "linecolor": "white",
             "minorgridcolor": "white",
             "startlinecolor": "#2a3f5f"
            },
            "type": "carpet"
           }
          ],
          "choropleth": [
           {
            "colorbar": {
             "outlinewidth": 0,
             "ticks": ""
            },
            "type": "choropleth"
           }
          ],
          "contour": [
           {
            "colorbar": {
             "outlinewidth": 0,
             "ticks": ""
            },
            "colorscale": [
             [
              0,
              "#0d0887"
             ],
             [
              0.1111111111111111,
              "#46039f"
             ],
             [
              0.2222222222222222,
              "#7201a8"
             ],
             [
              0.3333333333333333,
              "#9c179e"
             ],
             [
              0.4444444444444444,
              "#bd3786"
             ],
             [
              0.5555555555555556,
              "#d8576b"
             ],
             [
              0.6666666666666666,
              "#ed7953"
             ],
             [
              0.7777777777777778,
              "#fb9f3a"
             ],
             [
              0.8888888888888888,
              "#fdca26"
             ],
             [
              1,
              "#f0f921"
             ]
            ],
            "type": "contour"
           }
          ],
          "contourcarpet": [
           {
            "colorbar": {
             "outlinewidth": 0,
             "ticks": ""
            },
            "type": "contourcarpet"
           }
          ],
          "heatmap": [
           {
            "colorbar": {
             "outlinewidth": 0,
             "ticks": ""
            },
            "colorscale": [
             [
              0,
              "#0d0887"
             ],
             [
              0.1111111111111111,
              "#46039f"
             ],
             [
              0.2222222222222222,
              "#7201a8"
             ],
             [
              0.3333333333333333,
              "#9c179e"
             ],
             [
              0.4444444444444444,
              "#bd3786"
             ],
             [
              0.5555555555555556,
              "#d8576b"
             ],
             [
              0.6666666666666666,
              "#ed7953"
             ],
             [
              0.7777777777777778,
              "#fb9f3a"
             ],
             [
              0.8888888888888888,
              "#fdca26"
             ],
             [
              1,
              "#f0f921"
             ]
            ],
            "type": "heatmap"
           }
          ],
          "heatmapgl": [
           {
            "colorbar": {
             "outlinewidth": 0,
             "ticks": ""
            },
            "colorscale": [
             [
              0,
              "#0d0887"
             ],
             [
              0.1111111111111111,
              "#46039f"
             ],
             [
              0.2222222222222222,
              "#7201a8"
             ],
             [
              0.3333333333333333,
              "#9c179e"
             ],
             [
              0.4444444444444444,
              "#bd3786"
             ],
             [
              0.5555555555555556,
              "#d8576b"
             ],
             [
              0.6666666666666666,
              "#ed7953"
             ],
             [
              0.7777777777777778,
              "#fb9f3a"
             ],
             [
              0.8888888888888888,
              "#fdca26"
             ],
             [
              1,
              "#f0f921"
             ]
            ],
            "type": "heatmapgl"
           }
          ],
          "histogram": [
           {
            "marker": {
             "pattern": {
              "fillmode": "overlay",
              "size": 10,
              "solidity": 0.2
             }
            },
            "type": "histogram"
           }
          ],
          "histogram2d": [
           {
            "colorbar": {
             "outlinewidth": 0,
             "ticks": ""
            },
            "colorscale": [
             [
              0,
              "#0d0887"
             ],
             [
              0.1111111111111111,
              "#46039f"
             ],
             [
              0.2222222222222222,
              "#7201a8"
             ],
             [
              0.3333333333333333,
              "#9c179e"
             ],
             [
              0.4444444444444444,
              "#bd3786"
             ],
             [
              0.5555555555555556,
              "#d8576b"
             ],
             [
              0.6666666666666666,
              "#ed7953"
             ],
             [
              0.7777777777777778,
              "#fb9f3a"
             ],
             [
              0.8888888888888888,
              "#fdca26"
             ],
             [
              1,
              "#f0f921"
             ]
            ],
            "type": "histogram2d"
           }
          ],
          "histogram2dcontour": [
           {
            "colorbar": {
             "outlinewidth": 0,
             "ticks": ""
            },
            "colorscale": [
             [
              0,
              "#0d0887"
             ],
             [
              0.1111111111111111,
              "#46039f"
             ],
             [
              0.2222222222222222,
              "#7201a8"
             ],
             [
              0.3333333333333333,
              "#9c179e"
             ],
             [
              0.4444444444444444,
              "#bd3786"
             ],
             [
              0.5555555555555556,
              "#d8576b"
             ],
             [
              0.6666666666666666,
              "#ed7953"
             ],
             [
              0.7777777777777778,
              "#fb9f3a"
             ],
             [
              0.8888888888888888,
              "#fdca26"
             ],
             [
              1,
              "#f0f921"
             ]
            ],
            "type": "histogram2dcontour"
           }
          ],
          "mesh3d": [
           {
            "colorbar": {
             "outlinewidth": 0,
             "ticks": ""
            },
            "type": "mesh3d"
           }
          ],
          "parcoords": [
           {
            "line": {
             "colorbar": {
              "outlinewidth": 0,
              "ticks": ""
             }
            },
            "type": "parcoords"
           }
          ],
          "pie": [
           {
            "automargin": true,
            "type": "pie"
           }
          ],
          "scatter": [
           {
            "fillpattern": {
             "fillmode": "overlay",
             "size": 10,
             "solidity": 0.2
            },
            "type": "scatter"
           }
          ],
          "scatter3d": [
           {
            "line": {
             "colorbar": {
              "outlinewidth": 0,
              "ticks": ""
             }
            },
            "marker": {
             "colorbar": {
              "outlinewidth": 0,
              "ticks": ""
             }
            },
            "type": "scatter3d"
           }
          ],
          "scattercarpet": [
           {
            "marker": {
             "colorbar": {
              "outlinewidth": 0,
              "ticks": ""
             }
            },
            "type": "scattercarpet"
           }
          ],
          "scattergeo": [
           {
            "marker": {
             "colorbar": {
              "outlinewidth": 0,
              "ticks": ""
             }
            },
            "type": "scattergeo"
           }
          ],
          "scattergl": [
           {
            "marker": {
             "colorbar": {
              "outlinewidth": 0,
              "ticks": ""
             }
            },
            "type": "scattergl"
           }
          ],
          "scattermapbox": [
           {
            "marker": {
             "colorbar": {
              "outlinewidth": 0,
              "ticks": ""
             }
            },
            "type": "scattermapbox"
           }
          ],
          "scatterpolar": [
           {
            "marker": {
             "colorbar": {
              "outlinewidth": 0,
              "ticks": ""
             }
            },
            "type": "scatterpolar"
           }
          ],
          "scatterpolargl": [
           {
            "marker": {
             "colorbar": {
              "outlinewidth": 0,
              "ticks": ""
             }
            },
            "type": "scatterpolargl"
           }
          ],
          "scatterternary": [
           {
            "marker": {
             "colorbar": {
              "outlinewidth": 0,
              "ticks": ""
             }
            },
            "type": "scatterternary"
           }
          ],
          "surface": [
           {
            "colorbar": {
             "outlinewidth": 0,
             "ticks": ""
            },
            "colorscale": [
             [
              0,
              "#0d0887"
             ],
             [
              0.1111111111111111,
              "#46039f"
             ],
             [
              0.2222222222222222,
              "#7201a8"
             ],
             [
              0.3333333333333333,
              "#9c179e"
             ],
             [
              0.4444444444444444,
              "#bd3786"
             ],
             [
              0.5555555555555556,
              "#d8576b"
             ],
             [
              0.6666666666666666,
              "#ed7953"
             ],
             [
              0.7777777777777778,
              "#fb9f3a"
             ],
             [
              0.8888888888888888,
              "#fdca26"
             ],
             [
              1,
              "#f0f921"
             ]
            ],
            "type": "surface"
           }
          ],
          "table": [
           {
            "cells": {
             "fill": {
              "color": "#EBF0F8"
             },
             "line": {
              "color": "white"
             }
            },
            "header": {
             "fill": {
              "color": "#C8D4E3"
             },
             "line": {
              "color": "white"
             }
            },
            "type": "table"
           }
          ]
         },
         "layout": {
          "annotationdefaults": {
           "arrowcolor": "#2a3f5f",
           "arrowhead": 0,
           "arrowwidth": 1
          },
          "autotypenumbers": "strict",
          "coloraxis": {
           "colorbar": {
            "outlinewidth": 0,
            "ticks": ""
           }
          },
          "colorscale": {
           "diverging": [
            [
             0,
             "#8e0152"
            ],
            [
             0.1,
             "#c51b7d"
            ],
            [
             0.2,
             "#de77ae"
            ],
            [
             0.3,
             "#f1b6da"
            ],
            [
             0.4,
             "#fde0ef"
            ],
            [
             0.5,
             "#f7f7f7"
            ],
            [
             0.6,
             "#e6f5d0"
            ],
            [
             0.7,
             "#b8e186"
            ],
            [
             0.8,
             "#7fbc41"
            ],
            [
             0.9,
             "#4d9221"
            ],
            [
             1,
             "#276419"
            ]
           ],
           "sequential": [
            [
             0,
             "#0d0887"
            ],
            [
             0.1111111111111111,
             "#46039f"
            ],
            [
             0.2222222222222222,
             "#7201a8"
            ],
            [
             0.3333333333333333,
             "#9c179e"
            ],
            [
             0.4444444444444444,
             "#bd3786"
            ],
            [
             0.5555555555555556,
             "#d8576b"
            ],
            [
             0.6666666666666666,
             "#ed7953"
            ],
            [
             0.7777777777777778,
             "#fb9f3a"
            ],
            [
             0.8888888888888888,
             "#fdca26"
            ],
            [
             1,
             "#f0f921"
            ]
           ],
           "sequentialminus": [
            [
             0,
             "#0d0887"
            ],
            [
             0.1111111111111111,
             "#46039f"
            ],
            [
             0.2222222222222222,
             "#7201a8"
            ],
            [
             0.3333333333333333,
             "#9c179e"
            ],
            [
             0.4444444444444444,
             "#bd3786"
            ],
            [
             0.5555555555555556,
             "#d8576b"
            ],
            [
             0.6666666666666666,
             "#ed7953"
            ],
            [
             0.7777777777777778,
             "#fb9f3a"
            ],
            [
             0.8888888888888888,
             "#fdca26"
            ],
            [
             1,
             "#f0f921"
            ]
           ]
          },
          "colorway": [
           "#636efa",
           "#EF553B",
           "#00cc96",
           "#ab63fa",
           "#FFA15A",
           "#19d3f3",
           "#FF6692",
           "#B6E880",
           "#FF97FF",
           "#FECB52"
          ],
          "font": {
           "color": "#2a3f5f"
          },
          "geo": {
           "bgcolor": "white",
           "lakecolor": "white",
           "landcolor": "#E5ECF6",
           "showlakes": true,
           "showland": true,
           "subunitcolor": "white"
          },
          "hoverlabel": {
           "align": "left"
          },
          "hovermode": "closest",
          "mapbox": {
           "style": "light"
          },
          "paper_bgcolor": "white",
          "plot_bgcolor": "#E5ECF6",
          "polar": {
           "angularaxis": {
            "gridcolor": "white",
            "linecolor": "white",
            "ticks": ""
           },
           "bgcolor": "#E5ECF6",
           "radialaxis": {
            "gridcolor": "white",
            "linecolor": "white",
            "ticks": ""
           }
          },
          "scene": {
           "xaxis": {
            "backgroundcolor": "#E5ECF6",
            "gridcolor": "white",
            "gridwidth": 2,
            "linecolor": "white",
            "showbackground": true,
            "ticks": "",
            "zerolinecolor": "white"
           },
           "yaxis": {
            "backgroundcolor": "#E5ECF6",
            "gridcolor": "white",
            "gridwidth": 2,
            "linecolor": "white",
            "showbackground": true,
            "ticks": "",
            "zerolinecolor": "white"
           },
           "zaxis": {
            "backgroundcolor": "#E5ECF6",
            "gridcolor": "white",
            "gridwidth": 2,
            "linecolor": "white",
            "showbackground": true,
            "ticks": "",
            "zerolinecolor": "white"
           }
          },
          "shapedefaults": {
           "line": {
            "color": "#2a3f5f"
           }
          },
          "ternary": {
           "aaxis": {
            "gridcolor": "white",
            "linecolor": "white",
            "ticks": ""
           },
           "baxis": {
            "gridcolor": "white",
            "linecolor": "white",
            "ticks": ""
           },
           "bgcolor": "#E5ECF6",
           "caxis": {
            "gridcolor": "white",
            "linecolor": "white",
            "ticks": ""
           }
          },
          "title": {
           "x": 0.05
          },
          "xaxis": {
           "automargin": true,
           "gridcolor": "white",
           "linecolor": "white",
           "ticks": "",
           "title": {
            "standoff": 15
           },
           "zerolinecolor": "white",
           "zerolinewidth": 2
          },
          "yaxis": {
           "automargin": true,
           "gridcolor": "white",
           "linecolor": "white",
           "ticks": "",
           "title": {
            "standoff": 15
           },
           "zerolinecolor": "white",
           "zerolinewidth": 2
          }
         }
        },
        "width": 600
       }
      }
     },
     "metadata": {},
     "output_type": "display_data"
    }
   ],
   "source": [
    "# import plotly.graph_objects as go\n",
    "\n",
    "# fig = go.Figure(go.Indicator(\n",
    "#     mode=\"gauge+number\",\n",
    "#     value=bleu_score,\n",
    "#     title={'text': \"Model BLEU Score for Test Set\"},\n",
    "#     number={'suffix': \"%\"},\n",
    "#     gauge={\n",
    "#         'axis': {'range': [0, 100]},\n",
    "#         'bar': {'color': \"darkgreen\"},\n",
    "#         'steps': [\n",
    "#             {'range': [0, 50], 'color': \"lightcoral\"},\n",
    "#             {'range': [50, 70], 'color': \"#FFA500\"},\n",
    "#             {'range': [70, 80], 'color': \"yellow\"},  # Yellow for range 70-80\n",
    "#             {'range': [80, 90], 'color': \"lightgreen\"},  # Light green for range 80-90\n",
    "#             {'range': [90, 100], 'color': \"green\"}  # Darker green for range 90-100\n",
    "#         ],\n",
    "#     }\n",
    "# ))\n",
    "\n",
    "# fig.update_layout(\n",
    "#     width=600,\n",
    "#     height=400,\n",
    "# )\n",
    "# # fig.write_image(\"bleu_score.png\", scale=2)\n",
    "# fig.show()\n"
   ]
  }
 ],
 "metadata": {
  "kernelspec": {
   "display_name": "Python 3",
   "language": "python",
   "name": "python3"
  },
  "language_info": {
   "codemirror_mode": {
    "name": "ipython",
    "version": 3
   },
   "file_extension": ".py",
   "mimetype": "text/x-python",
   "name": "python",
   "nbconvert_exporter": "python",
   "pygments_lexer": "ipython3",
   "version": "3.12.4"
  }
 },
 "nbformat": 4,
 "nbformat_minor": 2
}
